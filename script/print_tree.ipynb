{
 "cells": [
  {
   "cell_type": "code",
   "execution_count": 26,
   "metadata": {},
   "outputs": [],
   "source": [
    "import numpy as np\n",
    "import pandas as pd\n",
    "import matplotlib as mpl\n",
    "import matplotlib.pyplot as plt"
   ]
  },
  {
   "cell_type": "code",
   "execution_count": 32,
   "metadata": {},
   "outputs": [
    {
     "data": {
      "text/plain": [
       "476878.65625"
      ]
     },
     "execution_count": 32,
     "metadata": {},
     "output_type": "execute_result"
    }
   ],
   "source": [
    "df = pd.read_csv(\"../output/tree.csv\")\n",
    "point = df[[\"x\", \"y\"]]\n",
    "point\n",
    "df[\"x\"][3]"
   ]
  },
  {
   "cell_type": "code",
   "execution_count": null,
   "metadata": {},
   "outputs": [],
   "source": [
    "def plot_tree(index, max, min, ax):\n",
    "    if(df[\"split\"][index] == 0):\n",
    "        ax.vlines(df[\"x\"][x],max,min )\n",
    "    if(df[\"split\"][index] == 1):\n",
    "        ax.hlines(df[\"y\"][x], max, min ) \n",
    "    if(df[\"lf\"][index] != -1 ):\n",
    "        plot_tree(df['lf'][index],)\n",
    "    if(df[\"rh\"][index] != -1):\n",
    "        plot_tree(df['rh'][index],)"
   ]
  },
  {
   "cell_type": "code",
   "execution_count": 30,
   "metadata": {},
   "outputs": [
    {
     "data": {
      "image/png": "[encoded data removed]",
      "text/plain": [
       "<Figure size 432x288 with 1 Axes>"
      ]
     },
     "metadata": {
      "needs_background": "light"
     },
     "output_type": "display_data"
    }
   ],
   "source": [
    "fig, ax = plt.subplots()\n",
    "ax.scatter(point[\"x\"],point[\"y\"])\n",
    "for x in range(0,df.shape[0]):\n",
    "    if(df[[\"split\"]] == 0):\n",
    "        ax.vlines(df[\"x\"][x], )\n",
    "    if(df[[\"split\"]] == 1):\n",
    "        ax.hlines(df[\"y\"][x])"
   ]
  }
 ],
 "metadata": {
  "interpreter": {
   "hash": "a142b7d21e8575b7566c168744f24153333bb674c4e2523209192565d5391819"
  },
  "kernelspec": {
   "display_name": "Python 3.9.10 ('deep_le')",
   "language": "python",
   "name": "python3"
  },
  "language_info": {
   "codemirror_mode": {
    "name": "ipython",
    "version": 3
   },
   "file_extension": ".py",
   "mimetype": "text/x-python",
   "name": "python",
   "nbconvert_exporter": "python",
   "pygments_lexer": "ipython3",
   "version": "3.9.7"
  },
  "orig_nbformat": 4
 },
 "nbformat": 4,
 "nbformat_minor": 2
}
